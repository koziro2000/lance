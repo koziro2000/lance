{
 "cells": [
  {
   "cell_type": "code",
   "execution_count": 172,
   "metadata": {},
   "outputs": [
    {
     "name": "stdout",
     "output_type": "stream",
     "text": [
      "chromedriver.exe\n",
      "example.db\n",
      "Excel in nutshell.ipynb\n",
      "invoice sample - Copy.xlsx\n",
      "invoice sample.xlsx\n",
      "Lance.ipynb\n",
      "time sample - Copy.xlsx\n",
      "time sample.xlsx\n",
      "Web and GUI automation.ipynb\n",
      "~$invoice sample.xlsx\n",
      "~$time sample.xlsx\n"
     ]
    }
   ],
   "source": [
    "import os\n",
    "\n",
    "files = [f for f in os.listdir('.') if os.path.isfile(f)]\n",
    "for f in files:\n",
    "    print(f)\n"
   ]
  },
  {
   "cell_type": "code",
   "execution_count": 191,
   "metadata": {
    "scrolled": false
   },
   "outputs": [],
   "source": [
    "import pandas as pd\n",
    "import numpy as np\n",
    "import matplotlib.pyplot as plt\n",
    "importFileName = 'time sample.xlsx'\n",
    "\n",
    "\n",
    "def processFile(fname):\n",
    "    times = pd.read_excel(fname, index_col=None, header=None)\n",
    "    times = times.iloc[2:24, 2:11]\n",
    "    times = times.fillna(0)\n",
    "    times = times.drop(columns=[3, 10])\n",
    "    return times\n",
    "\n",
    "currentTimes = processFile(importFileName)\n",
    "\n",
    "def processFirstWeek(currentTimes):\n",
    "    firstWeek = currentTimes.iloc[0:9, 0:11]\n",
    "    firstWeekTotal = firstWeek[9][10] #This looks like it is using column name ...\n",
    "    firstWeek.columns = firstWeek.iloc[0]\n",
    "    firstWeek.reindex(firstWeek.index.drop(2))\n",
    "    firstWeek['DailyTotal'] = firstWeek.sum(axis=1)\n",
    "    firstWeek = firstWeek.iloc[1:9]\n",
    "    firstWeek.rename(columns={0:'Date'}, inplace=True)\n",
    "    firstWeek['Date'] = firstWeek['Date'].astype(str)\n",
    "    firstWeek = firstWeek.applymap(str)\n",
    "    return firstWeek\n",
    "\n",
    "firstWeek = processFirstWeek(currentTimes)"
   ]
  },
  {
   "cell_type": "code",
   "execution_count": 192,
   "metadata": {},
   "outputs": [],
   "source": [
    "#Task 3: Produce Weekly report on projects\n",
    "#3.1 DB!\n",
    "import sqlite3\n",
    "\n",
    "contractorName = 'John Doe'\n",
    "\n",
    "conn = sqlite3.connect('example.db')\n",
    "c = conn.cursor()\n",
    "\n",
    "#3.2 Create Table - Project (Project Name: Description)\n",
    "c.execute('''Create table if not exists projects(ProjName text, ProjDesc text)''')\n",
    "c.execute('''Create Table if not exists timeEntries(ContName text, ProjName text, Date text, Hour text)''')\n",
    "\n",
    "c.execute(\"Delete from projects\")\n",
    "c.execute(\"Delete from timeEntries\")\n",
    "\n",
    "\n",
    "c.execute(\"INSERT INTO projects values ('CBC', 'Canada Broadcasting Service')\")\n",
    "for index, row in firstWeek.iterrows():    \n",
    "    for i in range(1, row.size-1):\n",
    "        c.execute(\"INSERT INTO timeEntries values(?, ?, ?, ?)\", (contractorName, row[0], row.index[i], row[i]))\n",
    "conn.commit()\n",
    "conn.close()"
   ]
  },
  {
   "cell_type": "code",
   "execution_count": 193,
   "metadata": {},
   "outputs": [
    {
     "name": "stdout",
     "output_type": "stream",
     "text": [
      "(1, 'CBC', 'Canada Broadcasting Service')\n"
     ]
    }
   ],
   "source": [
    "import sqlite3\n",
    "conn = sqlite3.connect('example.db')\n",
    "c = conn.cursor()\n",
    "\n",
    "for row in c.execute('SELECT rowid, * FROM projects ORDER BY ProjName'):\n",
    "    print(row)\n",
    "\n",
    "conn.close()"
   ]
  },
  {
   "cell_type": "code",
   "execution_count": 194,
   "metadata": {},
   "outputs": [
    {
     "name": "stdout",
     "output_type": "stream",
     "text": [
      "(2, 'John Doe', '2018-11-05 00:00:00', 'CBC', '1')\n",
      "(8, 'John Doe', '2018-11-06 00:00:00', 'CBC', '2')\n",
      "(14, 'John Doe', '2018-11-07 00:00:00', 'CBC', '3')\n",
      "(20, 'John Doe', '2018-11-08 00:00:00', 'CBC', '4')\n",
      "(26, 'John Doe', '2018-11-09 00:00:00', 'CBC', '5')\n",
      "(32, 'John Doe', '2018-11-10 00:00:00', 'CBC', '6')\n",
      "(38, 'John Doe', '2018-11-11 00:00:00', 'CBC', '7')\n",
      "(44, 'John Doe', '0', 'CBC', '28')\n",
      "(6, 'John Doe', '2018-11-05 00:00:00', 'Description', '0')\n",
      "(12, 'John Doe', '2018-11-06 00:00:00', 'Description', '0')\n",
      "(18, 'John Doe', '2018-11-07 00:00:00', 'Description', '0')\n",
      "(24, 'John Doe', '2018-11-08 00:00:00', 'Description', '0')\n",
      "(30, 'John Doe', '2018-11-09 00:00:00', 'Description', '0')\n",
      "(36, 'John Doe', '2018-11-10 00:00:00', 'Description', '0')\n",
      "(42, 'John Doe', '2018-11-11 00:00:00', 'Description', '0')\n",
      "(48, 'John Doe', '0', 'Description', '140')\n",
      "(4, 'John Doe', '2018-11-05 00:00:00', 'Jays  SW', '1')\n",
      "(10, 'John Doe', '2018-11-06 00:00:00', 'Jays  SW', '2')\n",
      "(16, 'John Doe', '2018-11-07 00:00:00', 'Jays  SW', '3')\n",
      "(22, 'John Doe', '2018-11-08 00:00:00', 'Jays  SW', '4')\n",
      "(28, 'John Doe', '2018-11-09 00:00:00', 'Jays  SW', '5')\n",
      "(34, 'John Doe', '2018-11-10 00:00:00', 'Jays  SW', '6')\n",
      "(40, 'John Doe', '2018-11-11 00:00:00', 'Jays  SW', '7')\n",
      "(46, 'John Doe', '0', 'Jays  SW', '28')\n",
      "(1, 'John Doe', '2018-11-05 00:00:00', 'Snet', '1')\n",
      "(7, 'John Doe', '2018-11-06 00:00:00', 'Snet', '2')\n",
      "(13, 'John Doe', '2018-11-07 00:00:00', 'Snet', '3')\n",
      "(19, 'John Doe', '2018-11-08 00:00:00', 'Snet', '4')\n",
      "(25, 'John Doe', '2018-11-09 00:00:00', 'Snet', '5')\n",
      "(31, 'John Doe', '2018-11-10 00:00:00', 'Snet', '6')\n",
      "(37, 'John Doe', '2018-11-11 00:00:00', 'Snet', '7')\n",
      "(43, 'John Doe', '0', 'Snet', '28')\n",
      "(3, 'John Doe', '2018-11-05 00:00:00', 'TSC-fix', '1')\n",
      "(9, 'John Doe', '2018-11-06 00:00:00', 'TSC-fix', '2')\n",
      "(15, 'John Doe', '2018-11-07 00:00:00', 'TSC-fix', '3')\n",
      "(21, 'John Doe', '2018-11-08 00:00:00', 'TSC-fix', '4')\n",
      "(27, 'John Doe', '2018-11-09 00:00:00', 'TSC-fix', '5')\n",
      "(33, 'John Doe', '2018-11-10 00:00:00', 'TSC-fix', '6')\n",
      "(39, 'John Doe', '2018-11-11 00:00:00', 'TSC-fix', '7')\n",
      "(45, 'John Doe', '0', 'TSC-fix', '28')\n",
      "(5, 'John Doe', '2018-11-05 00:00:00', 'vitatree', '1')\n",
      "(11, 'John Doe', '2018-11-06 00:00:00', 'vitatree', '2')\n",
      "(17, 'John Doe', '2018-11-07 00:00:00', 'vitatree', '3')\n",
      "(23, 'John Doe', '2018-11-08 00:00:00', 'vitatree', '4')\n",
      "(29, 'John Doe', '2018-11-09 00:00:00', 'vitatree', '5')\n",
      "(35, 'John Doe', '2018-11-10 00:00:00', 'vitatree', '6')\n",
      "(41, 'John Doe', '2018-11-11 00:00:00', 'vitatree', '7')\n",
      "(47, 'John Doe', '0', 'vitatree', '28')\n"
     ]
    }
   ],
   "source": [
    "import sqlite3\n",
    "conn = sqlite3.connect('example.db')\n",
    "c = conn.cursor()\n",
    "\n",
    "for row in c.execute('SELECT rowid, * from timeentries order by date'):\n",
    "    print(row)\n",
    "conn.close()"
   ]
  },
  {
   "cell_type": "code",
   "execution_count": 181,
   "metadata": {},
   "outputs": [
    {
     "data": {
      "text/html": [
       "<div>\n",
       "<style scoped>\n",
       "    .dataframe tbody tr th:only-of-type {\n",
       "        vertical-align: middle;\n",
       "    }\n",
       "\n",
       "    .dataframe tbody tr th {\n",
       "        vertical-align: top;\n",
       "    }\n",
       "\n",
       "    .dataframe thead th {\n",
       "        text-align: right;\n",
       "    }\n",
       "</style>\n",
       "<table border=\"1\" class=\"dataframe\">\n",
       "  <thead>\n",
       "    <tr style=\"text-align: right;\">\n",
       "      <th></th>\n",
       "      <th>Unnamed: 0</th>\n",
       "      <th>Up Workshop</th>\n",
       "      <th>Unnamed: 2</th>\n",
       "      <th>Unnamed: 3</th>\n",
       "      <th>QUOTATION</th>\n",
       "      <th>Unnamed: 5</th>\n",
       "      <th>Unnamed: 6</th>\n",
       "      <th>Unnamed: 7</th>\n",
       "    </tr>\n",
       "  </thead>\n",
       "  <tbody>\n",
       "    <tr>\n",
       "      <th>0</th>\n",
       "      <td>NaN</td>\n",
       "      <td>180 Strachan Ave.</td>\n",
       "      <td>NaN</td>\n",
       "      <td>NaN</td>\n",
       "      <td>Date</td>\n",
       "      <td>Quote#</td>\n",
       "      <td>NaN</td>\n",
       "      <td>NaN</td>\n",
       "    </tr>\n",
       "    <tr>\n",
       "      <th>1</th>\n",
       "      <td>NaN</td>\n",
       "      <td>Toronto, Ontario</td>\n",
       "      <td>NaN</td>\n",
       "      <td>NaN</td>\n",
       "      <td>NaN</td>\n",
       "      <td>NaN</td>\n",
       "      <td>NaN</td>\n",
       "      <td>NaN</td>\n",
       "    </tr>\n",
       "    <tr>\n",
       "      <th>2</th>\n",
       "      <td>NaN</td>\n",
       "      <td>M6J 2S9</td>\n",
       "      <td>NaN</td>\n",
       "      <td>NaN</td>\n",
       "      <td>NaN</td>\n",
       "      <td>NaN</td>\n",
       "      <td>NaN</td>\n",
       "      <td>NaN</td>\n",
       "    </tr>\n",
       "  </tbody>\n",
       "</table>\n",
       "</div>"
      ],
      "text/plain": [
       "  Unnamed: 0        Up Workshop Unnamed: 2  Unnamed: 3 QUOTATION Unnamed: 5  \\\n",
       "0        NaN  180 Strachan Ave.        NaN         NaN      Date     Quote#   \n",
       "1        NaN   Toronto, Ontario        NaN         NaN       NaN        NaN   \n",
       "2        NaN            M6J 2S9        NaN         NaN       NaN        NaN   \n",
       "\n",
       "   Unnamed: 6 Unnamed: 7  \n",
       "0         NaN        NaN  \n",
       "1         NaN        NaN  \n",
       "2         NaN        NaN  "
      ]
     },
     "execution_count": 181,
     "metadata": {},
     "output_type": "execute_result"
    }
   ],
   "source": [
    "invoices = pd.read_excel('invoice sample.xlsx')\n",
    "invoices.head(3)"
   ]
  },
  {
   "cell_type": "code",
   "execution_count": null,
   "metadata": {},
   "outputs": [],
   "source": []
  }
 ],
 "metadata": {
  "kernelspec": {
   "display_name": "Python 3",
   "language": "python",
   "name": "python3"
  },
  "language_info": {
   "codemirror_mode": {
    "name": "ipython",
    "version": 3
   },
   "file_extension": ".py",
   "mimetype": "text/x-python",
   "name": "python",
   "nbconvert_exporter": "python",
   "pygments_lexer": "ipython3",
   "version": "3.6.7"
  }
 },
 "nbformat": 4,
 "nbformat_minor": 2
}
