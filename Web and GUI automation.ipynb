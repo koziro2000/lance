{
 "cells": [
  {
   "cell_type": "code",
   "execution_count": 1,
   "metadata": {},
   "outputs": [],
   "source": [
    "%config IPCompleter.greedy=True\n",
    "\n",
    "import webbrowser\n",
    "import unittest\n",
    "\n",
    "from selenium import webdriver\n",
    "from selenium.webdriver.common.keys import Keys\n",
    "from selenium.webdriver.common.by import By\n",
    "from selenium.webdriver.support.ui import WebDriverWait\n",
    "from selenium.webdriver.support import expected_conditions as EC"
   ]
  },
  {
   "cell_type": "code",
   "execution_count": 3,
   "metadata": {},
   "outputs": [
    {
     "name": "stdout",
     "output_type": "stream",
     "text": [
      "Brower is ready to work\n",
      "Wire Creation is ready\n"
     ]
    }
   ],
   "source": [
    "chromedriver = \"./chromedriver\"\n",
    "driver = webdriver.Chrome(chromedriver)\n",
    "driver.get(\"https://dev-cashmaster/ivpcashmaster/Home.aspx#/page/CashMNavigation/tab/blotter\")\n",
    "assert \"CashMaster-Dev\" in driver.title\n",
    "\n",
    "try:\n",
    "    element = WebDriverWait(driver, 100).until(\n",
    "        EC.presence_of_element_located((By.ID, 'RADXLGridBlottergridEmptyDiv'))\n",
    "    )\n",
    "finally:\n",
    "    print('Brower is ready to work')\n",
    "\n",
    "element = driver.find_element(By.XPATH, '//input[@value=\"Add Wire\"]')\n",
    "element.click()\n",
    "\n",
    "try:\n",
    "    element = WebDriverWait(driver, 100).until(\n",
    "        EC.presence_of_element_located((By.ID, 'totalWireQuantity'))\n",
    "    )\n",
    "finally:\n",
    "    print('Wire Creation is ready')\n",
    "\n",
    "element.clear()\n",
    "element.send_keys(10000)\n",
    "element = driver.find_element(By.ID, 'btnSavenCloseWire')\n",
    "element.click()\n",
    "import pyautogui\n"
   ]
  },
  {
   "cell_type": "code",
   "execution_count": 27,
   "metadata": {
    "collapsed": true
   },
   "outputs": [
    {
     "name": "stderr",
     "output_type": "stream",
     "text": [
      "F\n",
      "======================================================================\n",
      "FAIL: test_search_in_python_org (__main__.PythonOrgSearch)\n",
      "----------------------------------------------------------------------\n",
      "Traceback (most recent call last):\n",
      "  File \"<ipython-input-27-6f544fc1e6c1>\", line 8, in test_search_in_python_org\n",
      "    self.assertIn(\"Python\", driver.title)\n",
      "AssertionError: 'Python' not found in 'CashMaster-Dev'\n",
      "\n",
      "----------------------------------------------------------------------\n",
      "Ran 1 test in 6.476s\n",
      "\n",
      "FAILED (failures=1)\n"
     ]
    }
   ],
   "source": [
    "class PythonOrgSearch(unittest.TestCase):\n",
    "    def setUp(self):        \n",
    "        self.driver = webdriver.Chrome(\"./chromedriver\")#Todo: location need to be configurable.\n",
    "    \n",
    "    def test_search_in_python_org(self):\n",
    "        driver = self.driver\n",
    "        driver.get(\"https://dev-cashmaster/ivpcashmaster/Home.aspx#/page/CashMNavigation/tab/blotter\")\n",
    "        self.assertIn(\"Python\", driver.title)\n",
    "        elem = driver.find_element_by_name(\"q\")\n",
    "        elem.send_keys(\"pycon\")\n",
    "        elem.send_keys(Keys.RETURN)\n",
    "        assert \"No results found.\" not in driver.page_source\n",
    "    \n",
    "    def tearDown(self):\n",
    "        self.driver.close()\n",
    "\n",
    "if __name__ == \"__main__\":\n",
    "    unittest.main(argv=['first-arg-is-ignored'], exit=False)"
   ]
  },
  {
   "cell_type": "code",
   "execution_count": null,
   "metadata": {},
   "outputs": [],
   "source": []
  }
 ],
 "metadata": {
  "kernelspec": {
   "display_name": "Python 3",
   "language": "python",
   "name": "python3"
  },
  "language_info": {
   "codemirror_mode": {
    "name": "ipython",
    "version": 3
   },
   "file_extension": ".py",
   "mimetype": "text/x-python",
   "name": "python",
   "nbconvert_exporter": "python",
   "pygments_lexer": "ipython3",
   "version": "3.6.7"
  }
 },
 "nbformat": 4,
 "nbformat_minor": 2
}
